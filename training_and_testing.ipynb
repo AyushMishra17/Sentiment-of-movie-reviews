{
  "nbformat": 4,
  "nbformat_minor": 0,
  "metadata": {
    "colab": {
      "name": "training_and_testing.ipynb",
      "provenance": [],
      "collapsed_sections": [],
      "authorship_tag": "ABX9TyOVu6L0uGjofycI9Bn/OEnN"
    },
    "kernelspec": {
      "name": "python3",
      "display_name": "Python 3"
    },
    "language_info": {
      "name": "python"
    }
  },
  "cells": [
    {
      "cell_type": "code",
      "execution_count": null,
      "metadata": {
        "id": "n9ADnAyeOkmt"
      },
      "outputs": [],
      "source": [
        "model.summary()"
      ]
    },
    {
      "cell_type": "code",
      "source": [
        "train_y = tf.keras.utils.to_categorical(train.Sentiment, num_classes=5)\n",
        "del train\n",
        "model.fit([input_ids_train, attention_mask_train], train_y,\n",
        "          validation_split=0.2, epochs = 3, batch_size = 16,\n",
        "          shuffle = True, verbose=2)\n",
        "input_ids_test, attention_mask_test = make_inputs(tokenizer, model_type, test.cleaned_text, max_len= 70)\n",
        "\n",
        "y_pred = model.predict([input_ids_test, attention_mask_test])\n",
        "pred = np.argmax(y_pred, axis = 1)\n",
        "pred\n",
        "sub = pd.DataFrame(np.c_[test_ids, pred], columns = ['PhraseId', 'Sentiment'])\n",
        "sub.head()\n",
        "sub.to_csv('3epochs_16bs_1e-5lr.csv', index = False)"
      ],
      "metadata": {
        "id": "0WCPIolDO1TI"
      },
      "execution_count": null,
      "outputs": []
    }
  ]
}