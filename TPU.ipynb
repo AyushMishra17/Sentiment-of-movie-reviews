{
  "nbformat": 4,
  "nbformat_minor": 0,
  "metadata": {
    "colab": {
      "name": "TPU.ipynb",
      "provenance": [],
      "authorship_tag": "ABX9TyMqJ7mAYfvUQ+pc6VZOsFyC"
    },
    "kernelspec": {
      "name": "python3",
      "display_name": "Python 3"
    },
    "language_info": {
      "name": "python"
    }
  },
  "cells": [
    {
      "cell_type": "markdown",
      "source": [
        "This allows you to toggle the use of TPU. TPU allows faster processing and is available in collab and kaggle. "
      ],
      "metadata": {
        "id": "hw7ZY0FNM2Of"
      }
    },
    {
      "cell_type": "code",
      "source": [
        "def init_model(model_name, model_type, num_labels, Tpu = 'on', max_len = 70):\n",
        "# ------------------------------------------------ with TPU --------------------------------------------------------------#\n",
        "    if Tpu == 'on':\n",
        "        # a few lines of code to get our tpu started and our data distributed on it\n",
        "        resolver = tf.distribute.cluster_resolver.TPUClusterResolver()\n",
        "        tf.config.experimental_connect_to_cluster(resolver)\n",
        "        tf.tpu.experimental.initialize_tpu_system(resolver)\n",
        "        # print(\"All devices: \", tf.config.list_logical_devices('TPU'))\n",
        "\n",
        "        strategy = tf.distribute.experimental.TPUStrategy(resolver)\n",
        "        with strategy.scope():\n",
        "\n",
        "            model_ = model_name.from_pretrained(model_type)\n",
        "            # inputs\n",
        "            input_ids = tf.keras.Input(shape = (max_len, ), dtype = 'int32')\n",
        "            attention_masks = tf.keras.Input(shape = (max_len,), dtype = 'int32')\n",
        "            \n",
        "            outputs = model_([input_ids, attention_masks])\n",
        "\n",
        "            if 'xlnet' in model_type:\n",
        "                # cls is the last token in xlnet tokenization\n",
        "                outputs = outputs[0]\n",
        "                cls_output = tf.squeeze(outputs[:, -1:, :], axis=1)\n",
        "            else:\n",
        "                cls_output = outputs[1]\n",
        "\n",
        "            final_output = tf.keras.layers.Dense(num_labels, activation = 'softmax')(cls_output)\n",
        "            model = tf.keras.Model(inputs = [input_ids, attention_masks], outputs = final_output)\n",
        "            model.compile(optimizer = Adam(lr = 1e-5), loss = 'categorical_crossentropy',\n",
        "                        metrics = ['accuracy'], )\n",
        "# ------------------------------------------------ without TPU --------------------------------------------------------------#\n",
        "    else:\n",
        "        model_ = model_name.from_pretrained(model_type)\n",
        "        # inputs\n",
        "        input_ids = tf.keras.Input(shape = (max_len, ), dtype = 'int32')\n",
        "        attention_masks = tf.keras.Input(shape = (max_len,), dtype = 'int32')\n",
        "        \n",
        "        outputs = model_([input_ids, attention_masks])\n",
        "\n",
        "        if 'xlnet' in model_type:\n",
        "            # cls is the last token in xlnet tokenization\n",
        "            outputs = outputs[0]\n",
        "            cls_output = tf.squeeze(outputs[:, -1:, :], axis=1)\n",
        "        else:\n",
        "            cls_output = outputs[1]\n",
        "\n",
        "        \n",
        "        final_output = tf.keras.layers.Dense(num_labels, activation = 'softmax')(cls_output)\n",
        "\n",
        "        model = tf.keras.Model(inputs = [input_ids, attention_masks], outputs = final_output)\n",
        "\n",
        "        model.compile(optimizer = Adam(lr = 1e-5), loss = 'categorical_crossentropy',\n",
        "                    metrics = ['accuracy'])\n",
        "    return model\n",
        "model = init_model(model_name, model_type, num_labels = 5, Tpu = 'on', max_len = 70)"
      ],
      "metadata": {
        "id": "eeyClIQoNN_2"
      },
      "execution_count": null,
      "outputs": []
    }
  ]
}